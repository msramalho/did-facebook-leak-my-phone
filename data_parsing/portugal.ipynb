{
 "cells": [
  {
   "cell_type": "code",
   "execution_count": null,
   "metadata": {},
   "outputs": [],
   "source": [
    "import pandas as pd\n",
    "import hashlib\n",
    "from collections import Counter"
   ]
  },
  {
   "cell_type": "code",
   "execution_count": null,
   "metadata": {},
   "outputs": [],
   "source": [
    "FILENAME = \"data/Portugal.txt\""
   ]
  },
  {
   "cell_type": "code",
   "execution_count": null,
   "metadata": {},
   "outputs": [],
   "source": [
    "header = [\"phone\", \"id2\", \"firstname\", \"lastname\", \"gender\", \"city1\", \"city2\", \"status\", \"work\", \"date01\", \"date02\", \"date03\", \"date04\", \"date05\"]\n",
    "dtype = {\"date01\": object, \"date02\": object, \"date03\":object, \"phone\": object}\n",
    "dirty_df = pd.read_csv(FILENAME, sep=\":\", names=header, dtype=dtype)\n",
    "dirty_df"
   ]
  },
  {
   "cell_type": "code",
   "execution_count": null,
   "metadata": {},
   "outputs": [],
   "source": [
    "df = dirty_df[[\"phone\", \"id2\", \"gender\", \"city1\", \"city2\", \"status\", \"work\"]].copy()\n",
    "df[\"date\"] = pd.to_datetime(dirty_df[\"date01\"].astype(str) + \":\" + dirty_df[\"date02\"].astype(str) + \":\" + dirty_df[\"date03\"].astype(str), errors='ignore')\n",
    "df[\"name\"] = dirty_df[\"firstname\"].str.lower()+ \" \" + dirty_df[\"lastname\"].str.lower()\n",
    "df.head()"
   ]
  },
  {
   "cell_type": "code",
   "execution_count": null,
   "metadata": {},
   "outputs": [],
   "source": [
    "SEARCH_NAME = \"António Costa\"\n",
    "search_term = \".*\".join(SEARCH_NAME.lower().split(\" \"))\n",
    "print(search_term)\n",
    "matches = df[df[\"name\"].str.contains(search_term, regex=True, na=False)]\n",
    "matches"
   ]
  },
  {
   "cell_type": "code",
   "execution_count": null,
   "metadata": {},
   "outputs": [],
   "source": [
    "def _hash(v):\n",
    "    m = hashlib.sha256()\n",
    "    m.update(bytes(v, encoding=\"utf-8\"))\n",
    "#     print(len(m.hexdigest())-16) # used in JS substring(from)\n",
    "    return m.hexdigest()[-16:]"
   ]
  },
  {
   "cell_type": "code",
   "execution_count": null,
   "metadata": {
    "scrolled": false
   },
   "outputs": [],
   "source": [
    "df[\"phone_hash\"] = df.phone.map(_hash)\n",
    "df.head()"
   ]
  },
  {
   "cell_type": "code",
   "execution_count": null,
   "metadata": {},
   "outputs": [],
   "source": [
    "assert Counter(df[\"phone_hash\"]).most_common()[0][1]==1, \"collision with the hashes, increase chars used in '_hash()' method\"\n",
    "\n",
    "with open(\"../docs/hashed_data.json\", 'w', encoding='utf-8') as outf:\n",
    "    df[[\"phone_hash\", \"name\"]].set_index(\"phone_hash\").to_json(outf, force_ascii=False, orient='columns')"
   ]
  }
 ],
 "metadata": {
  "kernelspec": {
   "name": "python37464bit1910f3770f18458580fdf7baa626fc0e",
   "display_name": "Python 3.7.4 64-bit"
  },
  "language_info": {
   "codemirror_mode": {
    "name": "ipython",
    "version": 3
   },
   "file_extension": ".py",
   "mimetype": "text/x-python",
   "name": "python",
   "nbconvert_exporter": "python",
   "pygments_lexer": "ipython3",
   "version": "3.7.4-final"
  },
  "metadata": {
   "interpreter": {
    "hash": "04635d289a519a1410467dd0afb0db42f9184808881ca68b2eb5a687a20a5a94"
   }
  }
 },
 "nbformat": 4,
 "nbformat_minor": 2
}